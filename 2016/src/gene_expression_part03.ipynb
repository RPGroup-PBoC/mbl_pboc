{
 "cells": [
  {
   "cell_type": "markdown",
   "metadata": {},
   "source": [
    "# Gene expression part 03 \n",
    "### Credit: Griffin Chure & Manuel Razo-Mejia\n",
    "\n",
    "In part III of our matlab project, we will learn how to process a series of images, extract area values, and write our very first function! \n",
    "\n",
    "At the end of the last exercise, we saw that we had a distribution of areas, but it was pretty hard for us to identify good thresholds. Today, we'll get a better idea of what a typical cell looks like by segmenting even more cells.\n",
    "\n",
    "We will begin by listing all of the phase images. "
   ]
  },
  {
   "cell_type": "code",
   "execution_count": 1,
   "metadata": {
    "collapsed": true
   },
   "outputs": [],
   "source": [
    "% Ignore this line, I am just setting my working directory to where the data is\n",
    "cd('~/Documents/PhD/RPGroup-PBoC_github/mbl_pboc_2016/src/')"
   ]
  },
  {
   "cell_type": "code",
   "execution_count": 2,
   "metadata": {
    "collapsed": false
   },
   "outputs": [],
   "source": [
    "phaseIms = dir('data/no_lac/noLac_phase*.tif');"
   ]
  },
  {
   "cell_type": "markdown",
   "metadata": {},
   "source": [
    "The command `dir` lists all of the files that satisfy certain condition. For example here we are telling matlab to go into the `data/no_lac/` directory and find all the files that start with `noLac_phase` and end with `.tif` with a series of random characters in between (indicated by the `*`).\n",
    "\n",
    "Let's look for the first 3 file name for example."
   ]
  },
  {
   "cell_type": "code",
   "execution_count": 3,
   "metadata": {
    "collapsed": false
   },
   "outputs": [
    {
     "name": "stdout",
     "output_type": "stream",
     "text": [
      "ans =\n",
      "\n",
      "noLac_phase_0000.tif\n",
      "\n",
      "\n",
      "ans =\n",
      "\n",
      "noLac_phase_0001.tif\n",
      "\n",
      "\n",
      "ans =\n",
      "\n",
      "noLac_phase_0002.tif\n"
     ]
    }
   ],
   "source": [
    "% Obtain the first 3 file names from the phaseIms structure\n",
    "phaseIms(1:3).name"
   ]
  },
  {
   "cell_type": "markdown",
   "metadata": {},
   "source": [
    "Having this `phaseIms` structure becomes very handy. We can now use a simple `for` loop to obtain all of the areas from each image.\n",
    "\n",
    "You might be thinking: But wait a second! We have taken 2 sessions so far to get to the point where we obtain an array with the areas of labeled objects in an image. I don't want to copy and paste `n` times that code for each image.\n",
    "\n",
    "Well, you only don't have to but as good as a programmer that you are becoming you shouldn't even think about that. For this we will define our first beautiful function! \n",
    "\n",
    "By now you must be familiar with functions. We have used them from the very beginning. Functions such as `mat2gray`, `imhist`, `regionprops` receive an input, perform some computations and return some output afterwards. But what if there is not a function that does all the steps you want to follow at once? The you should define your own functions!\n",
    "\n",
    "One of matlab's biggest weakness in my opinion is that it doesn't allow users to define functions in the same script where they are performing other operations. Functions need to live in single independent m-files where the name of the file needed to be the exact same as the name of the function. This version `matlab 2016b` tried modernizing the language to allow for [local functions](http://www.mathworks.com/help/matlab/matlab_prog/local-functions-in-scripts.html) to be defined in a script. But there are still shortcomes from this approach in my opinion."
   ]
  },
  {
   "cell_type": "markdown",
   "metadata": {},
   "source": [
    "## Defining a function to extract the areas of labeled objects.\n",
    "\n",
    "The way that we define a function in matlab is as follows:\n",
    "\n",
    "`function output(s) = name_of_the_function(parameter(s))`\n",
    "\n",
    "    % Comments explaining how the function works\n",
    "\n",
    "    Actual code performind the function\n",
    "`end`\n",
    "\n",
    "So before getting into our real function let's first try a simple one. Let's define a function that takes as input a matrix and returns the minimum and the maximum value on it."
   ]
  },
  {
   "cell_type": "code",
   "execution_count": null,
   "metadata": {
    "collapsed": false
   },
   "outputs": [],
   "source": [
    "function [minVal, maxVal] = minMaxFn(array)\n",
    "% This function returns the minimum and maximum value of any given array\n",
    "% Parametrs\n",
    "% ---------\n",
    "% array : array-like\n",
    "%    Array from which we want to obtain the minimum and maximum value.\n",
    "% Returns\n",
    "% -------\n",
    "% minVal, maxVal : float\n",
    "%    Minimum and maximum value respectively\n",
    "\n",
    "minVal = min(array(:)); % Minimum value\n",
    "maxVal = max(array(:)); % Maximum value\n",
    "\n",
    "end %function"
   ]
  },
  {
   "cell_type": "markdown",
   "metadata": {},
   "source": [
    "Now in the same directory I am working I have an m-file named `minMaxFn.m` as you can see if I list all the files in the directory."
   ]
  },
  {
   "cell_type": "code",
   "execution_count": 4,
   "metadata": {
    "collapsed": false
   },
   "outputs": [
    {
     "name": "stdout",
     "output_type": "stream",
     "text": [
      "data\t\t\t\tminMaxFn.m\n",
      "gene_expression_part01.ipynb\tsegmenter.m\n",
      "gene_expression_part02.ipynb\tsizing_up_ecoli.ipynb\n",
      "gene_expression_part03.ipynb\n"
     ]
    }
   ],
   "source": [
    "ls"
   ]
  },
  {
   "cell_type": "markdown",
   "metadata": {},
   "source": [
    "With this in hand let's see if I can actually generate an array with random numbers and obtain the maximum and minimum values."
   ]
  },
  {
   "cell_type": "code",
   "execution_count": 5,
   "metadata": {
    "collapsed": false
   },
   "outputs": [
    {
     "name": "stdout",
     "output_type": "stream",
     "text": [
      "minVal =\n",
      "\n",
      "    0.0975\n",
      "\n",
      "\n",
      "maxVal =\n",
      "\n",
      "    0.9649\n"
     ]
    }
   ],
   "source": [
    "randArray = rand([1, 10]);\n",
    "[minVal, maxVal] = minMaxFn(randArray)"
   ]
  },
  {
   "cell_type": "markdown",
   "metadata": {},
   "source": [
    "It worked! So now we know how to define a function. Let's now define a relevant function for what we want to do.\n",
    "\n",
    "Let's look at we want our function to do. I will go through the process as if I was able to define it here, but at the end of the day the function will actually need to live in a separate m-file.\n",
    "1. First of all we want the function to take a file name and read the image.\n",
    "2. Then we want to perform a Gaussian blur to correct the background.\n",
    "3. Then we would like to choose some kind of threshold to pick up bacteria.\n",
    "4. Finally we would like to extract the area of all the objects found in the labeled image.\n",
    "\n",
    "We know how to do everything automatically, except for step 3 where we gave some manual input as to which threshold value to use. There are actually automatic thresholding methods such as [Otsu's method](https://en.wikipedia.org/wiki/Otsu%27s_method) that are [implemented in matlab](http://www.mathworks.com/help/images/ref/graythresh.html). So we'll make use of this method for that step."
   ]
  },
  {
   "cell_type": "code",
   "execution_count": null,
   "metadata": {
    "collapsed": false
   },
   "outputs": [],
   "source": [
    "function [imLabel, areas] = segmenter(filename, radius)\n",
    "%This function segments an image and returns the segmentation mask.\n",
    "%\n",
    "%Parameters:\n",
    "%------------\n",
    "% filename : string\n",
    "%   Name of the image file to be segmented. \n",
    "% radius : float \n",
    "%   Radius to use during the gaussian blur smoothing. \n",
    "\n",
    "%Load the image. \n",
    "imPhase = imread(filename);\n",
    "    \n",
    "%Normalize it!\n",
    "imNorm = mat2gray(imPhase);\n",
    "    \n",
    "%BPerform a Gaussian blur\n",
    "imBlur = imgaussfilt(imNorm, radius);\n",
    "% Extract the background\n",
    "imSub = imNorm - imBlur;\n",
    "% Renormalization\n",
    "imSub = mat2gray(imSub);\n",
    "\n",
    "% Use Otsu's method to get an automatic threshold\n",
    "threshold = graythresh(imSub);\n",
    "\n",
    "%Apply a threshold. \n",
    "imThresh = im2bw(imSub, threshold);\n",
    " \n",
    "%Remove cells touching border. \n",
    "imThresh = imclearborder(imThresh);\n",
    "%Label our image.\n",
    "imLabel = bwlabel(imThresh);\n",
    "    \n",
    "%Extract the region properties of our image. \n",
    "props = regionprops(imLabel, 'Area');\n",
    "areas = [props.Area];\n",
    "\n",
    "end"
   ]
  },
  {
   "cell_type": "markdown",
   "metadata": {},
   "source": [
    "Again in the same directory I have this same function defined on a file named `segmenter.m`. So let's test the function with one of the files we listed in `phaseIms`."
   ]
  },
  {
   "cell_type": "code",
   "execution_count": 12,
   "metadata": {
    "collapsed": false
   },
   "outputs": [],
   "source": [
    "[imLabel, areas] = segmenter(strcat('data/no_lac/', phaseIms(1).name), 70);"
   ]
  },
  {
   "cell_type": "markdown",
   "metadata": {},
   "source": [
    "Let's look at the resulting labeled image!"
   ]
  },
  {
   "cell_type": "code",
   "execution_count": 13,
   "metadata": {
    "collapsed": false
   },
   "outputs": [
    {
     "data": {
      "image/png": "[encoded data removed]",
      "text/plain": [
       "<IPython.core.display.Image object>"
      ]
     },
     "metadata": {},
     "output_type": "display_data"
    }
   ],
   "source": [
    "imshow(label2rgb(imLabel))"
   ]
  },
  {
   "cell_type": "markdown",
   "metadata": {},
   "source": [
    "That looks pretty good! Seems that our function can automatically segment out bacteria-like objects given a phase contrast image."
   ]
  }
 ],
 "metadata": {
  "anaconda-cloud": {},
  "kernelspec": {
   "display_name": "Matlab",
   "language": "matlab",
   "name": "matlab_kernel"
  },
  "language_info": {
   "codemirror_mode": "octave",
   "file_extension": ".m",
   "help_links": [
    {
     "text": "MetaKernel Magics",
     "url": "https://github.com/calysto/metakernel/blob/master/metakernel/magics/README.md"
    }
   ],
   "mimetype": "text/x-octave",
   "name": "matlab",
   "version": "0.11.0"
  }
 },
 "nbformat": 4,
 "nbformat_minor": 1
}
