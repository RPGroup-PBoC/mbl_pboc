{
 "cells": [
  {
   "cell_type": "markdown",
   "metadata": {},
   "source": [
    "# Exploratory data analysis.\n",
    "Let's look at the data!"
   ]
  },
  {
   "cell_type": "code",
   "execution_count": 1,
   "metadata": {},
   "outputs": [],
   "source": [
    "cd ('/Users/razo/Documents/PhD/teaching/MBL_Physiology_2016/code/bayesian_inference')\n",
    "df = readtable('flow_master.csv');"
   ]
  },
  {
   "cell_type": "code",
   "execution_count": 4,
   "metadata": {
    "scrolled": false
   },
   "outputs": [
    {
     "name": "stdout",
     "output_type": "stream",
     "text": [
      "\n",
      "ans = \n",
      "\n",
      "       date        username     operator    binding_energy       rbs       repressors    IPTG_uM    mean_YFP_A    mean_YFP_bgcorr_A    fold_change_A\n",
      "    __________    __________    ________    ______________    _________    __________    _______    __________    _________________    _____________\n",
      "\n",
      "    2.0161e+07    'mrazomej'    'O2'        -13.9             'auto'         0           0          3512.6             0                       0    \n",
      "    2.0161e+07    'mrazomej'    'O2'        -13.9             'delta'        0           0           19164         15652                       1    \n",
      "    2.0161e+07    'mrazomej'    'O2'        -13.9             'RBS1L'      870           0          3624.5        111.85               0.0071463    \n",
      "    2.0161e+07    'mrazomej'    'O2'        -13.9             'RBS1'       610           0          3619.8        107.16               0.0068468    \n",
      "    2.0161e+07    'mrazomej'    'O2'        -13.9             'RBS1027'    130           0            3717         204.4                0.013059    \n",
      "\n"
     ]
    }
   ],
   "source": [
    "df(1:5,:)"
   ]
  },
  {
   "cell_type": "markdown",
   "metadata": {},
   "source": [
    "## Boolean indexing"
   ]
  },
  {
   "cell_type": "code",
   "execution_count": 7,
   "metadata": {},
   "outputs": [],
   "source": [
    "O2_rows = strcmp(df.operator,'O2');\n",
    "df_O2 = df(O2_rows, :);"
   ]
  },
  {
   "cell_type": "markdown",
   "metadata": {},
   "source": [
    "## Guided Struggle: Extract the O2 RBS1027 data."
   ]
  },
  {
   "cell_type": "code",
   "execution_count": 11,
   "metadata": {},
   "outputs": [],
   "source": [
    "O2_1027_rows = strcmp(df.operator, 'O2') & strcmp(df.rbs, 'RBS1027');\n",
    "df_fit = df(O2_1027_rows, :);"
   ]
  },
  {
   "cell_type": "markdown",
   "metadata": {},
   "source": [
    "# Time to look at the data "
   ]
  },
  {
   "cell_type": "code",
   "execution_count": 16,
   "metadata": {},
   "outputs": [
    {
     "data": {
      "image/png": "[encoded data removed]",
      "text/plain": [
       "<IPython.core.display.Image object>"
      ]
     },
     "metadata": {},
     "output_type": "display_data"
    }
   ],
   "source": [
    "semilogx(df_fit.IPTG_uM, df_fit.fold_change_A, 'o')\n",
    "xlabel('IPTG (\\mu M)')\n",
    "ylabel('fold-change')\n",
    "legend('O2 - RBS1027 | R = 260')"
   ]
  },
  {
   "cell_type": "code",
   "execution_count": null,
   "metadata": {
    "collapsed": true
   },
   "outputs": [],
   "source": []
  }
 ],
 "metadata": {
  "anaconda-cloud": {},
  "kernelspec": {
   "display_name": "Matlab",
   "language": "matlab",
   "name": "matlab"
  },
  "language_info": {
   "codemirror_mode": "octave",
   "file_extension": ".m",
   "help_links": [
    {
     "text": "MetaKernel Magics",
     "url": "https://github.com/calysto/metakernel/blob/master/metakernel/magics/README.md"
    }
   ],
   "mimetype": "text/x-matlab",
   "name": "matlab",
   "version": "0.14.3"
  }
 },
 "nbformat": 4,
 "nbformat_minor": 2
}
